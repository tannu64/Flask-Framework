{
  "nbformat": 4,
  "nbformat_minor": 0,
  "metadata": {
    "colab": {
      "provenance": [],
      "authorship_tag": "ABX9TyOY7xeGhpOdxKR+1UnJdcxL",
      "include_colab_link": true
    },
    "kernelspec": {
      "name": "python3",
      "display_name": "Python 3"
    },
    "language_info": {
      "name": "python"
    }
  },
  "cells": [
    {
      "cell_type": "markdown",
      "metadata": {
        "id": "view-in-github",
        "colab_type": "text"
      },
      "source": [
        "<a href=\"https://colab.research.google.com/github/tannu64/Flask-Framework/blob/main/Flask_Framework.ipynb\" target=\"_parent\"><img src=\"https://colab.research.google.com/assets/colab-badge.svg\" alt=\"Open In Colab\"/></a>"
      ]
    },
    {
      "cell_type": "markdown",
      "source": [
        "Getting started with Flask is a straightforward process. Flask is a lightweight and flexible Python web framework ideal for building small to medium-sized applications. Below is a step-by-step guide to get you started:"
      ],
      "metadata": {
        "id": "d699NARXNYpB"
      }
    },
    {
      "cell_type": "code",
      "execution_count": 1,
      "metadata": {
        "colab": {
          "base_uri": "https://localhost:8080/"
        },
        "id": "iSDrHwGJIj4v",
        "outputId": "c0f92b0d-2953-4b92-8c17-2594bc26d68d"
      },
      "outputs": [
        {
          "output_type": "stream",
          "name": "stdout",
          "text": [
            "Requirement already satisfied: flask in /usr/local/lib/python3.10/dist-packages (3.1.0)\n",
            "Requirement already satisfied: Werkzeug>=3.1 in /usr/local/lib/python3.10/dist-packages (from flask) (3.1.3)\n",
            "Requirement already satisfied: Jinja2>=3.1.2 in /usr/local/lib/python3.10/dist-packages (from flask) (3.1.4)\n",
            "Requirement already satisfied: itsdangerous>=2.2 in /usr/local/lib/python3.10/dist-packages (from flask) (2.2.0)\n",
            "Requirement already satisfied: click>=8.1.3 in /usr/local/lib/python3.10/dist-packages (from flask) (8.1.7)\n",
            "Requirement already satisfied: blinker>=1.9 in /usr/local/lib/python3.10/dist-packages (from flask) (1.9.0)\n",
            "Requirement already satisfied: MarkupSafe>=2.0 in /usr/local/lib/python3.10/dist-packages (from Jinja2>=3.1.2->flask) (3.0.2)\n"
          ]
        }
      ],
      "source": [
        "!pip install flask\n"
      ]
    },
    {
      "cell_type": "code",
      "source": [
        "from flask import Flask\n",
        "\n",
        "app = Flask(__name__)\n",
        "\n",
        "@app.route('/')\n",
        "def home():\n",
        "    return \"Hello, Flask running on Colab!\"\n"
      ],
      "metadata": {
        "id": "NfPH5pQJIy7Z"
      },
      "execution_count": 21,
      "outputs": []
    },
    {
      "cell_type": "code",
      "source": [
        "!pip install pyngrok\n"
      ],
      "metadata": {
        "colab": {
          "base_uri": "https://localhost:8080/"
        },
        "id": "vOjX4TwpI8FO",
        "outputId": "60ddece3-b5aa-4ab9-95c6-1e55697e4fcf"
      },
      "execution_count": 3,
      "outputs": [
        {
          "output_type": "stream",
          "name": "stdout",
          "text": [
            "Collecting pyngrok\n",
            "  Downloading pyngrok-7.2.2-py3-none-any.whl.metadata (8.4 kB)\n",
            "Requirement already satisfied: PyYAML>=5.1 in /usr/local/lib/python3.10/dist-packages (from pyngrok) (6.0.2)\n",
            "Downloading pyngrok-7.2.2-py3-none-any.whl (22 kB)\n",
            "Installing collected packages: pyngrok\n",
            "Successfully installed pyngrok-7.2.2\n"
          ]
        }
      ]
    },
    {
      "cell_type": "code",
      "source": [
        "!ngrok authtoken\n"
      ],
      "metadata": {
        "colab": {
          "base_uri": "https://localhost:8080/"
        },
        "id": "G_zxU_q5LnWO",
        "outputId": "5df48b86-ff13-4e11-868c-387a8eb048b5"
      },
      "execution_count": 26,
      "outputs": [
        {
          "output_type": "stream",
          "name": "stdout",
          "text": [
            "Authtoken saved to configuration file: /root/.config/ngrok/ngrok.yml\n"
          ]
        }
      ]
    },
    {
      "cell_type": "code",
      "source": [
        "!pkill ngrok\n"
      ],
      "metadata": {
        "id": "hHhWVuF9Wn_M"
      },
      "execution_count": 25,
      "outputs": []
    },
    {
      "cell_type": "code",
      "source": [
        "from flask import Flask\n",
        "from pyngrok import ngrok\n",
        "\n",
        "app = Flask(__name__)\n",
        "\n",
        "@app.route('/')\n",
        "def home():\n",
        "    return \"Hello, Flask with ngrok!\"\n",
        "\n",
        "# Start ngrok and print the public URL\n",
        "public_url = ngrok.connect(5000)\n",
        "print(f\"Public URL: {public_url}\")\n",
        "\n",
        "# Run the Flask app\n",
        "app.run(port=5000)\n"
      ],
      "metadata": {
        "colab": {
          "base_uri": "https://localhost:8080/"
        },
        "id": "r4YyRdJ4LtX2",
        "outputId": "138e8bf0-3b61-4885-fc5b-6cbeed888793"
      },
      "execution_count": 23,
      "outputs": [
        {
          "output_type": "stream",
          "name": "stdout",
          "text": [
            "Public URL: NgrokTunnel: \"https://daae-34-138-5-130.ngrok-free.app\" -> \"http://localhost:5000\"\n",
            " * Serving Flask app '__main__'\n",
            " * Debug mode: off\n"
          ]
        },
        {
          "output_type": "stream",
          "name": "stderr",
          "text": [
            "INFO:werkzeug:\u001b[31m\u001b[1mWARNING: This is a development server. Do not use it in a production deployment. Use a production WSGI server instead.\u001b[0m\n",
            " * Running on http://127.0.0.1:5000\n",
            "INFO:werkzeug:\u001b[33mPress CTRL+C to quit\u001b[0m\n",
            "INFO:werkzeug:127.0.0.1 - - [25/Dec/2024 19:43:13] \"GET / HTTP/1.1\" 200 -\n",
            "INFO:werkzeug:127.0.0.1 - - [25/Dec/2024 19:43:14] \"\u001b[33mGET /favicon.ico HTTP/1.1\u001b[0m\" 404 -\n"
          ]
        }
      ]
    },
    {
      "cell_type": "code",
      "source": [
        "# Writing the index.html file\n",
        "with open(\"templates/index.html\", \"w\") as f:\n",
        "    f.write(\"\"\"\n",
        "    <!DOCTYPE html>\n",
        "    <html>\n",
        "    <head>\n",
        "        <title>Flask App</title>\n",
        "    </head>\n",
        "    <body>\n",
        "        <h1>Welcome to My Flask App!</h1>\n",
        "        <p>This is rendered from the index.html file.</p>\n",
        "    </body>\n",
        "    </html>\n",
        "    \"\"\")\n"
      ],
      "metadata": {
        "id": "8eIaQGMRMu0z"
      },
      "execution_count": 12,
      "outputs": []
    },
    {
      "cell_type": "code",
      "source": [
        "from flask import Flask, render_template\n",
        "from pyngrok import ngrok\n",
        "\n",
        "# Initialize Flask app\n",
        "app = Flask(__name__, template_folder='templates')\n",
        "\n",
        "@app.route('/')\n",
        "def home():\n",
        "    return render_template('index.html')\n",
        "\n",
        "# Start ngrok and expose the app\n",
        "public_url = ngrok.connect(5000)\n",
        "print(f\"Public URL: {public_url}\")\n",
        "\n",
        "# Run the Flask app on port 8080\n",
        "app.run(port=5000)\n"
      ],
      "metadata": {
        "colab": {
          "base_uri": "https://localhost:8080/"
        },
        "id": "QAcCQja3ML_1",
        "outputId": "162b7d4c-3fa1-43b6-b947-7c075576cb26"
      },
      "execution_count": 20,
      "outputs": [
        {
          "output_type": "stream",
          "name": "stdout",
          "text": [
            "Public URL: NgrokTunnel: \"https://3704-34-138-5-130.ngrok-free.app\" -> \"http://localhost:5000\"\n",
            " * Serving Flask app '__main__'\n",
            " * Debug mode: off\n"
          ]
        },
        {
          "output_type": "stream",
          "name": "stderr",
          "text": [
            "INFO:werkzeug:\u001b[31m\u001b[1mWARNING: This is a development server. Do not use it in a production deployment. Use a production WSGI server instead.\u001b[0m\n",
            " * Running on http://127.0.0.1:5000\n",
            "INFO:werkzeug:\u001b[33mPress CTRL+C to quit\u001b[0m\n",
            "ERROR:__main__:Exception on / [GET]\n",
            "Traceback (most recent call last):\n",
            "  File \"/usr/local/lib/python3.10/dist-packages/flask/app.py\", line 1511, in wsgi_app\n",
            "    response = self.full_dispatch_request()\n",
            "  File \"/usr/local/lib/python3.10/dist-packages/flask/app.py\", line 919, in full_dispatch_request\n",
            "    rv = self.handle_user_exception(e)\n",
            "  File \"/usr/local/lib/python3.10/dist-packages/flask/app.py\", line 917, in full_dispatch_request\n",
            "    rv = self.dispatch_request()\n",
            "  File \"/usr/local/lib/python3.10/dist-packages/flask/app.py\", line 902, in dispatch_request\n",
            "    return self.ensure_sync(self.view_functions[rule.endpoint])(**view_args)  # type: ignore[no-any-return]\n",
            "  File \"<ipython-input-20-b25313317d0c>\", line 9, in home\n",
            "    return render_template('index.html')\n",
            "  File \"/usr/local/lib/python3.10/dist-packages/flask/templating.py\", line 150, in render_template\n",
            "    return _render(app, template, context)\n",
            "  File \"/usr/local/lib/python3.10/dist-packages/flask/templating.py\", line 131, in _render\n",
            "    rv = template.render(context)\n",
            "  File \"/usr/local/lib/python3.10/dist-packages/jinja2/environment.py\", line 1304, in render\n",
            "    self.environment.handle_exception()\n",
            "  File \"/usr/local/lib/python3.10/dist-packages/jinja2/environment.py\", line 939, in handle_exception\n",
            "    raise rewrite_traceback_stack(source=source)\n",
            "  File \"/content/templates/index.html\", line 1, in top-level template code\n",
            "    {% extends \"base.html\" %}\n",
            "  File \"/content/templates/base.html\", line 12, in top-level template code\n",
            "    {% block content %}{% endblock %}\n",
            "  File \"/content/templates/index.html\", line 10, in block 'content'\n",
            "    <a href=\"{{ url_for('add_note') }}\">Add Note</a>\n",
            "  File \"/usr/local/lib/python3.10/dist-packages/flask/app.py\", line 1121, in url_for\n",
            "    return self.handle_url_build_error(error, endpoint, values)\n",
            "  File \"/usr/local/lib/python3.10/dist-packages/flask/app.py\", line 1110, in url_for\n",
            "    rv = url_adapter.build(  # type: ignore[union-attr]\n",
            "  File \"/usr/local/lib/python3.10/dist-packages/werkzeug/routing/map.py\", line 924, in build\n",
            "    raise BuildError(endpoint, values, method, self)\n",
            "werkzeug.routing.exceptions.BuildError: Could not build url for endpoint 'add_note'. Did you mean 'home' instead?\n",
            "INFO:werkzeug:127.0.0.1 - - [25/Dec/2024 19:42:49] \"\u001b[35m\u001b[1mGET / HTTP/1.1\u001b[0m\" 500 -\n",
            "INFO:werkzeug:127.0.0.1 - - [25/Dec/2024 19:42:49] \"\u001b[33mGET /favicon.ico HTTP/1.1\u001b[0m\" 404 -\n"
          ]
        }
      ]
    },
    {
      "cell_type": "markdown",
      "source": [
        "# **Introduction to Flask Framework**\n",
        "\n",
        "Flask is a lightweight and flexible web framework for Python that is designed for quick and easy development of web applications. It is a micro-framework, meaning it provides the basic tools and structure for building web applications without imposing many dependencies.\n",
        "\n",
        "**Key Features of Flask**\n",
        "\n",
        "Lightweight and Minimalistic:\n",
        "\n",
        "Flask provides only the essentials for web development, letting developers choose additional tools or libraries as needed.\n",
        "\n",
        "Built-in Development Server:\n",
        "\n",
        "Comes with a development server and debugger for testing applications locally.\n",
        "\n",
        "Routing and Views:\n",
        "\n",
        "Flask allows defining URL routes and mapping them to Python functions (called view functions).\n",
        "\n",
        "Template Rendering:\n",
        "\n",
        "Uses Jinja2, a powerful template engine, for rendering dynamic HTML pages.\n",
        "\n",
        "Extensibility:\n",
        "\n",
        "Flask is modular and extensible, with a wide range of extensions available (e.g., Flask-SQLAlchemy for databases, Flask-WTF for forms).\n",
        "\n",
        "RESTful API Development:\n",
        "\n",
        "Ideal for building RESTful web services due to its simplicity and flexibility.\n",
        "\n",
        "Community and Documentation:\n",
        "\n",
        "Flask has a large, active community and comprehensive documentation.\n",
        "\n",
        "**When to Use Flask**\n",
        "\n",
        "For small to medium-sized applications where lightweight solutions are preferred.\n",
        "When you need flexibility and control over application components.\n",
        "For building REST APIs or prototypes quickly."
      ],
      "metadata": {
        "id": "djGn7g56P4bo"
      }
    },
    {
      "cell_type": "markdown",
      "source": [
        "# **Understanding the Flask Application Skeleton**\n",
        "\n",
        "A Flask application typically follows a well-defined structure to organize its components, making the development process modular, maintainable, and scalable. Below is an explanation of the theoretical aspects of each component in a Flask application skeleton:\n",
        "___\n",
        "**1. app.py (The Entry Point)**\n",
        "\n",
        "Purpose: The main file that initializes the Flask application.\n",
        "\n",
        "\n",
        "Responsibilities:\n",
        "\n",
        "Create a Flask application instance using Flask(__name__).\n",
        "Define routes using the @app.route() decorator.\n",
        "Run the application using app.run().\n",
        "___\n",
        "**2. Routes**\n",
        "\n",
        "Definition: URLs that map to specific views or functions in the application.\n",
        "Purpose:\n",
        "Define how the app responds to client requests for different URLs.\n",
        "Example:\n",
        "\n",
        "```\n",
        "@app.route('/')\n",
        "def home():\n",
        "    return \"Welcome to Flask!\"\n",
        "```\n",
        "___\n",
        "**3. View Functions**\n",
        "Purpose:\n",
        "Handle requests received at specific routes.\n",
        "Perform logic, interact with databases, and return responses.\n",
        "\n",
        "```\n",
        "@app.route('/greet/<name>')\n",
        "def greet(name):\n",
        "    return f\"Hello, {name}!\"\n",
        "```\n",
        "___\n",
        "\n",
        "**4. Templates Folder**\n",
        "Location: A folder named templates in the project directory.\n",
        "Purpose:\n",
        "Contains HTML files that are rendered dynamically using Flask's render_template function.\n",
        "```\n",
        "<!-- templates/index.html -->\n",
        "<!DOCTYPE html>\n",
        "<html>\n",
        "<head>\n",
        "    <title>Flask App</title>\n",
        "</head>\n",
        "<body>\n",
        "    <h1>Welcome, {{ name }}!</h1>\n",
        "</body>\n",
        "</html>\n",
        "\n",
        "```\n",
        "___\n",
        "**5. Static Folder**\n",
        "Location: A folder named static in the project directory.\n",
        "Purpose:\n",
        "Store static files such as CSS, JavaScript, images, and fonts.\n",
        "Accessed in templates using url_for('static', filename='path/to/file')\n",
        "\n",
        "___\n",
        "**6. Rendering Templates**\n",
        "Function: render_template('template_name.html', **context)\n",
        "Purpose:\n",
        "Generate HTML responses by combining templates with dynamic data.\n",
        "Example:\n",
        "```\n",
        "from flask import render_template\n",
        "\n",
        "@app.route('/welcome/<name>')\n",
        "def welcome(name):\n",
        "    return render_template('index.html', name=name)\n",
        "\n",
        "```\n",
        "___\n",
        "**7. Static Files Serving**\n",
        "Purpose:\n",
        "Serve static resources (like images or stylesheets) to the client.\n",
        "Example usage in templates:\n",
        "```\n",
        "<link rel=\"stylesheet\" href=\"{{ url_for('static', filename='styles.css') }}\">\n",
        "\n",
        "```\n",
        "___\n",
        "**Typical Directory Structure**\n",
        "```\n",
        "project/\n",
        "│\n",
        "├── app.py                # Main application file\n",
        "├── templates/            # Templates folder (for HTML files)\n",
        "│   ├── index.html        # Example HTML template\n",
        "│\n",
        "├── static/               # Static files folder\n",
        "│   ├── styles.css        # Example CSS file\n",
        "│   ├── script.js         # Example JavaScript file\n",
        "│\n",
        "└── requirements.txt      # (Optional) Python dependencies\n",
        "\n",
        "```\n",
        "___\n",
        "**How It All Connects**\n",
        "\n",
        "Request Handling:\n",
        "\n",
        "User sends a request to a specific URL.\n",
        "\n",
        "Flask matches the URL to a route defined in app.py.\n",
        "\n",
        "View Function Execution:\n",
        "\n",
        "The corresponding view function is executed.\n",
        "\n",
        "Logic is performed (e.g., database queries, computations).\n",
        "\n",
        "Template Rendering:\n",
        "\n",
        "If a template is required, render_template is called with dynamic data.\n",
        "\n",
        "Response Generation:\n",
        "\n",
        "Flask returns the generated HTML (or another response type) to the client.\n",
        "___"
      ],
      "metadata": {
        "id": "fgs24CwVQ8qt"
      }
    },
    {
      "cell_type": "code",
      "source": [
        "import os\n",
        "\n",
        "# Function to create the project skeleton\n",
        "def create_flask_skeleton():\n",
        "    # Define folder and file structure\n",
        "    folders = ['templates', 'static']\n",
        "    files = {\n",
        "        'app.py': \"\"\"from flask import Flask, render_template, request, redirect, url_for\n",
        "import json\n",
        "\n",
        "app = Flask(__name__)\n",
        "\n",
        "# Load notes from the JSON file\n",
        "def load_notes():\n",
        "    try:\n",
        "        with open(\"notes.json\", \"r\") as f:\n",
        "            return json.load(f)\n",
        "    except FileNotFoundError:\n",
        "        return []\n",
        "\n",
        "# Save notes to the JSON file\n",
        "def save_notes(notes):\n",
        "    with open(\"notes.json\", \"w\") as f:\n",
        "        json.dump(notes, f)\n",
        "\n",
        "@app.route('/')\n",
        "def index():\n",
        "    notes = load_notes()\n",
        "    return render_template(\"index.html\", notes=notes)\n",
        "\n",
        "@app.route('/add', methods=[\"GET\", \"POST\"])\n",
        "def add_note():\n",
        "    if request.method == \"POST\":\n",
        "        note = request.form[\"note\"]\n",
        "        notes = load_notes()\n",
        "        notes.append(note)\n",
        "        save_notes(notes)\n",
        "        return redirect(url_for('index'))\n",
        "    return render_template(\"add_note.html\")\n",
        "\n",
        "@app.route('/delete/<int:note_id>')\n",
        "def delete_note(note_id):\n",
        "    notes = load_notes()\n",
        "    if 0 <= note_id < len(notes):\n",
        "        notes.pop(note_id)\n",
        "        save_notes(notes)\n",
        "    return redirect(url_for('index'))\n",
        "\n",
        "if __name__ == \"__main__\":\n",
        "    app.run(debug=True)\n",
        "\"\"\",\n",
        "        'templates/base.html': \"\"\"<!DOCTYPE html>\n",
        "<html>\n",
        "<head>\n",
        "    <title>Notes App</title>\n",
        "    <link rel=\"stylesheet\" href=\"{{ url_for('static', filename='styles.css') }}\">\n",
        "</head>\n",
        "<body>\n",
        "    <header>\n",
        "        <h1>Notes App</h1>\n",
        "    </header>\n",
        "    <main>\n",
        "        {% block content %}{% endblock %}\n",
        "    </main>\n",
        "</body>\n",
        "</html>\n",
        "\"\"\",\n",
        "        'templates/index.html': \"\"\"{% extends \"base.html\" %}\n",
        "\n",
        "{% block content %}\n",
        "    <h2>Your Notes</h2>\n",
        "    <ul>\n",
        "        {% for note in notes %}\n",
        "            <li>{{ loop.index }}: {{ note }} <a href=\"{{ url_for('delete_note', note_id=loop.index0) }}\">Delete</a></li>\n",
        "        {% endfor %}\n",
        "    </ul>\n",
        "    <a href=\"{{ url_for('add_note') }}\">Add Note</a>\n",
        "{% endblock %}\n",
        "\"\"\",\n",
        "        'templates/add_note.html': \"\"\"{% extends \"base.html\" %}\n",
        "\n",
        "{% block content %}\n",
        "    <h2>Add a New Note</h2>\n",
        "    <form method=\"POST\">\n",
        "        <textarea name=\"note\" rows=\"4\" cols=\"50\" placeholder=\"Write your note here...\"></textarea>\n",
        "        <br>\n",
        "        <button type=\"submit\">Add Note</button>\n",
        "    </form>\n",
        "{% endblock %}\n",
        "\"\"\",\n",
        "        'static/styles.css': \"\"\"body {\n",
        "    font-family: Arial, sans-serif;\n",
        "    margin: 0;\n",
        "    padding: 0;\n",
        "}\n",
        "\n",
        "header {\n",
        "    background-color: #4CAF50;\n",
        "    color: white;\n",
        "    text-align: center;\n",
        "    padding: 1em 0;\n",
        "}\n",
        "\n",
        "main {\n",
        "    margin: 2em;\n",
        "}\n",
        "\n",
        "ul {\n",
        "    list-style-type: none;\n",
        "    padding: 0;\n",
        "}\n",
        "\n",
        "li {\n",
        "    margin: 0.5em 0;\n",
        "}\n",
        "\n",
        "button {\n",
        "    background-color: #4CAF50;\n",
        "    color: white;\n",
        "    border: none;\n",
        "    padding: 0.5em 1em;\n",
        "    cursor: pointer;\n",
        "}\n",
        "\n",
        "button:hover {\n",
        "    background-color: #45a049;\n",
        "}\n",
        "\"\"\",\n",
        "        'notes.json': \"[]\"\n",
        "    }\n",
        "\n",
        "    # Create folders\n",
        "    for folder in folders:\n",
        "        os.makedirs(folder, exist_ok=True)\n",
        "\n",
        "    # Create files\n",
        "    for file_path, content in files.items():\n",
        "        with open(file_path, 'w') as f:\n",
        "            f.write(content)\n",
        "\n",
        "# Run the function to create the skeleton\n",
        "create_flask_skeleton()\n",
        "\n",
        "print(\"Flask project skeleton created successfully!\")\n"
      ],
      "metadata": {
        "colab": {
          "base_uri": "https://localhost:8080/"
        },
        "id": "c_t-n46QUClE",
        "outputId": "4f2d105f-0cf7-41c9-fcd0-2b3c93ba1d9a"
      },
      "execution_count": 16,
      "outputs": [
        {
          "output_type": "stream",
          "name": "stdout",
          "text": [
            "Flask project skeleton created successfully!\n"
          ]
        }
      ]
    },
    {
      "cell_type": "code",
      "source": [
        "from pyngrok import ngrok\n",
        "public_url = ngrok.connect(5000)\n",
        "print(f\"Your app is running at: {public_url}\")\n"
      ],
      "metadata": {
        "colab": {
          "base_uri": "https://localhost:8080/"
        },
        "id": "B8TxDppMWwrS",
        "outputId": "184d28e1-a06c-4663-a6d4-ee314b88bc4c"
      },
      "execution_count": 27,
      "outputs": [
        {
          "output_type": "stream",
          "name": "stdout",
          "text": [
            "Your app is running at: NgrokTunnel: \"https://fb39-34-138-5-130.ngrok-free.app\" -> \"http://localhost:5000\"\n"
          ]
        }
      ]
    },
    {
      "cell_type": "code",
      "source": [
        "# Install pyngrok if not already installed\n",
        "!pip install pyngrok\n",
        "\n",
        "# Set ngrok authtoken\n",
        "!ngrok authtoken\n",
        "\n",
        "from flask import Flask, render_template, request, redirect, url_for\n",
        "from pyngrok import ngrok\n",
        "import json\n",
        "\n",
        "# Load and save notes functions\n",
        "def load_notes():\n",
        "    try:\n",
        "        with open(\"notes.json\", \"r\") as f:\n",
        "            return json.load(f)\n",
        "    except FileNotFoundError:\n",
        "        return []\n",
        "\n",
        "def save_notes(notes):\n",
        "    with open(\"notes.json\", \"w\") as f:\n",
        "        json.dump(notes, f)\n",
        "\n",
        "# Flask app setup\n",
        "app = Flask(__name__)\n",
        "\n",
        "@app.route('/')\n",
        "def index():\n",
        "    notes = load_notes()\n",
        "    return render_template(\"index.html\", notes=notes)\n",
        "\n",
        "@app.route('/add', methods=[\"GET\", \"POST\"])\n",
        "def add_note():\n",
        "    if request.method == \"POST\":\n",
        "        note = request.form[\"note\"]\n",
        "        notes = load_notes()\n",
        "        notes.append(note)\n",
        "        save_notes(notes)\n",
        "        return redirect(url_for('index'))\n",
        "    return render_template(\"add_note.html\")\n",
        "\n",
        "@app.route('/delete/<int:note_id>')\n",
        "def delete_note(note_id):\n",
        "    notes = load_notes()\n",
        "    if 0 <= note_id < len(notes):\n",
        "        notes.pop(note_id)\n",
        "        save_notes(notes)\n",
        "    return redirect(url_for('index'))\n",
        "\n",
        "# Start ngrok and Flask app\n",
        "public_url = ngrok.connect(5000)\n",
        "print(f\"Your app is running at: {public_url}\")\n",
        "\n",
        "if __name__ == \"__main__\":\n",
        "    app.run(port=5000, debug=True)\n"
      ],
      "metadata": {
        "colab": {
          "base_uri": "https://localhost:8080/"
        },
        "id": "VnamyEFXW3ca",
        "outputId": "e5c8da6d-dd47-4aff-9a5f-ab0bde7143d0"
      },
      "execution_count": 28,
      "outputs": [
        {
          "output_type": "stream",
          "name": "stdout",
          "text": [
            "Requirement already satisfied: pyngrok in /usr/local/lib/python3.10/dist-packages (7.2.2)\n",
            "Requirement already satisfied: PyYAML>=5.1 in /usr/local/lib/python3.10/dist-packages (from pyngrok) (6.0.2)\n",
            "Authtoken saved to configuration file: /root/.config/ngrok/ngrok.yml\n",
            "Your app is running at: NgrokTunnel: \"https://ea15-34-138-5-130.ngrok-free.app\" -> \"http://localhost:5000\"\n",
            " * Serving Flask app '__main__'\n",
            " * Debug mode: on\n"
          ]
        },
        {
          "output_type": "stream",
          "name": "stderr",
          "text": [
            "INFO:werkzeug:\u001b[31m\u001b[1mWARNING: This is a development server. Do not use it in a production deployment. Use a production WSGI server instead.\u001b[0m\n",
            " * Running on http://127.0.0.1:5000\n",
            "INFO:werkzeug:\u001b[33mPress CTRL+C to quit\u001b[0m\n",
            "INFO:werkzeug: * Restarting with stat\n"
          ]
        }
      ]
    },
    {
      "cell_type": "code",
      "source": [
        "from flask import Flask, render_template, request, redirect, url_for\n",
        "import json\n",
        "from pyngrok import ngrok\n",
        "\n",
        "# Load notes from the JSON file\n",
        "def load_notes():\n",
        "    try:\n",
        "        with open(\"notes.json\", \"r\") as f:\n",
        "            return json.load(f)\n",
        "    except FileNotFoundError:\n",
        "        return []\n",
        "\n",
        "# Save notes to the JSON file\n",
        "def save_notes(notes):\n",
        "    with open(\"notes.json\", \"w\") as f:\n",
        "        json.dump(notes, f)\n",
        "\n",
        "# Initialize Flask app\n",
        "app = Flask(__name__)\n",
        "\n",
        "@app.route('/')\n",
        "def index():\n",
        "    notes = load_notes()\n",
        "    return render_template(\"index.html\", notes=notes)\n",
        "\n",
        "@app.route('/add', methods=[\"GET\", \"POST\"])\n",
        "def add_note():\n",
        "    if request.method == \"POST\":\n",
        "        note = request.form[\"note\"]\n",
        "        notes = load_notes()\n",
        "        notes.append(note)\n",
        "        save_notes(notes)\n",
        "        return redirect(url_for('index'))\n",
        "    return render_template(\"add_note.html\")\n",
        "\n",
        "@app.route('/delete/<int:note_id>')\n",
        "def delete_note(note_id):\n",
        "    notes = load_notes()\n",
        "    if 0 <= note_id < len(notes):\n",
        "        notes.pop(note_id)\n",
        "        save_notes(notes)\n",
        "    return redirect(url_for('index'))\n",
        "\n",
        "# Start the Flask app and expose it via ngrok\n",
        "public_url = ngrok.connect(5000)\n",
        "print(f\"Your app is running at: {public_url}\")\n",
        "\n",
        "if __name__ == \"__main__\":\n",
        "    app.run(port=5000, debug=True)\n",
        "\n"
      ],
      "metadata": {
        "colab": {
          "base_uri": "https://localhost:8080/"
        },
        "id": "f36Fu27-VKvO",
        "outputId": "be9499ea-0766-4861-95b8-e4f6ea8bde52"
      },
      "execution_count": 24,
      "outputs": [
        {
          "output_type": "stream",
          "name": "stdout",
          "text": [
            "Your app is running at: NgrokTunnel: \"https://04f8-34-138-5-130.ngrok-free.app\" -> \"http://localhost:5000\"\n",
            " * Serving Flask app '__main__'\n",
            " * Debug mode: on\n"
          ]
        },
        {
          "output_type": "stream",
          "name": "stderr",
          "text": [
            "INFO:werkzeug:\u001b[31m\u001b[1mWARNING: This is a development server. Do not use it in a production deployment. Use a production WSGI server instead.\u001b[0m\n",
            " * Running on http://127.0.0.1:5000\n",
            "INFO:werkzeug:\u001b[33mPress CTRL+C to quit\u001b[0m\n",
            "INFO:werkzeug: * Restarting with stat\n"
          ]
        }
      ]
    },
    {
      "cell_type": "code",
      "source": [
        "from flask import Flask, render_template, request, redirect, url_for\n",
        "import json\n",
        "\n",
        "app = Flask(__name__)\n",
        "\n",
        "# Load notes from the JSON file\n",
        "def load_notes():\n",
        "    try:\n",
        "        with open(\"notes.json\", \"r\") as f:\n",
        "            return json.load(f)\n",
        "    except FileNotFoundError:\n",
        "        return []\n",
        "\n",
        "# Save notes to the JSON file\n",
        "def save_notes(notes):\n",
        "    with open(\"notes.json\", \"w\") as f:\n",
        "        json.dump(notes, f)\n",
        "\n",
        "@app.route('/')\n",
        "def index():\n",
        "    notes = load_notes()\n",
        "    return render_template(\"index.html\", notes=notes)\n",
        "\n",
        "@app.route('/add', methods=[\"GET\", \"POST\"])\n",
        "def add_note():\n",
        "    if request.method == \"POST\":\n",
        "        note = request.form[\"note\"]\n",
        "        notes = load_notes()\n",
        "        notes.append(note)\n",
        "        save_notes(notes)\n",
        "        return redirect(url_for('index'))\n",
        "    return render_template(\"add_note.html\")\n",
        "\n",
        "@app.route('/delete/<int:note_id>')\n",
        "def delete_note(note_id):\n",
        "    notes = load_notes()\n",
        "    if 0 <= note_id < len(notes):\n",
        "        notes.pop(note_id)\n",
        "        save_notes(notes)\n",
        "    return redirect(url_for('index'))\n",
        "\n",
        "if __name__ == \"__main__\":\n",
        "    app.run(debug=True)\n"
      ],
      "metadata": {
        "colab": {
          "base_uri": "https://localhost:8080/"
        },
        "id": "WxOH-oSQXR8Y",
        "outputId": "11955f12-72a6-4979-e652-9cdd30052d07"
      },
      "execution_count": 29,
      "outputs": [
        {
          "output_type": "stream",
          "name": "stdout",
          "text": [
            " * Serving Flask app '__main__'\n",
            " * Debug mode: on\n"
          ]
        },
        {
          "output_type": "stream",
          "name": "stderr",
          "text": [
            "INFO:werkzeug:\u001b[31m\u001b[1mWARNING: This is a development server. Do not use it in a production deployment. Use a production WSGI server instead.\u001b[0m\n",
            " * Running on http://127.0.0.1:5000\n",
            "INFO:werkzeug:\u001b[33mPress CTRL+C to quit\u001b[0m\n",
            "INFO:werkzeug: * Restarting with stat\n"
          ]
        }
      ]
    },
    {
      "cell_type": "code",
      "source": [
        "import os\n",
        "import shutil\n",
        "\n",
        "# Define the project structure\n",
        "folders = [\n",
        "    \"templates\",\n",
        "    \"static\"\n",
        "]\n",
        "files = [\n",
        "    \"app.py\",\n",
        "    \"notes.json\",\n",
        "    \"templates/base.html\",\n",
        "    \"templates/index.html\",\n",
        "    \"templates/add_note.html\",\n",
        "    \"static/styles.css\"\n",
        "]\n",
        "\n",
        "# Function to delete existing folders and files\n",
        "def delete_existing_project():\n",
        "    for folder in folders:\n",
        "        if os.path.exists(folder):\n",
        "            shutil.rmtree(folder)\n",
        "    for file in files:\n",
        "        if os.path.exists(file):\n",
        "            os.remove(file)\n",
        "\n",
        "# Function to create the empty project structure\n",
        "def create_empty_skeleton():\n",
        "    for folder in folders:\n",
        "        os.makedirs(folder, exist_ok=True)\n",
        "    for file in files:\n",
        "        # Create empty files in the correct structure\n",
        "        with open(file, 'w') as f:\n",
        "            pass\n",
        "\n",
        "# Execute deletion and creation\n",
        "delete_existing_project()\n",
        "create_empty_skeleton()\n",
        "\n",
        "print(\"Empty Flask project structure has been created successfully!\")\n"
      ],
      "metadata": {
        "colab": {
          "base_uri": "https://localhost:8080/"
        },
        "id": "dEA0p4N0Z8-J",
        "outputId": "2e5d1904-278a-4772-b98f-87765e603786"
      },
      "execution_count": 30,
      "outputs": [
        {
          "output_type": "stream",
          "name": "stdout",
          "text": [
            "Empty Flask project structure has been created successfully!\n"
          ]
        }
      ]
    },
    {
      "cell_type": "code",
      "source": [
        "# Write the index.html file with a beautiful front-end design\n",
        "index_html_content = \"\"\"\n",
        "<!DOCTYPE html>\n",
        "<html lang=\"en\">\n",
        "<head>\n",
        "    <meta charset=\"UTF-8\">\n",
        "    <meta name=\"viewport\" content=\"width=device-width, initial-scale=1.0\">\n",
        "    <title>Beautiful Notes App</title>\n",
        "    <style>\n",
        "        body {\n",
        "            font-family: Arial, sans-serif;\n",
        "            margin: 0;\n",
        "            padding: 0;\n",
        "            background-color: #f4f4f9;\n",
        "        }\n",
        "        header {\n",
        "            background-color: #6c5ce7;\n",
        "            color: white;\n",
        "            text-align: center;\n",
        "            padding: 1rem 0;\n",
        "        }\n",
        "        h1 {\n",
        "            margin: 0;\n",
        "        }\n",
        "        .container {\n",
        "            max-width: 800px;\n",
        "            margin: 2rem auto;\n",
        "            background: white;\n",
        "            border-radius: 8px;\n",
        "            box-shadow: 0 2px 5px rgba(0, 0, 0, 0.1);\n",
        "            overflow: hidden;\n",
        "        }\n",
        "        .content {\n",
        "            padding: 1.5rem;\n",
        "        }\n",
        "        .note {\n",
        "            padding: 1rem;\n",
        "            border-bottom: 1px solid #ddd;\n",
        "        }\n",
        "        .note:last-child {\n",
        "            border-bottom: none;\n",
        "        }\n",
        "        .note p {\n",
        "            margin: 0;\n",
        "        }\n",
        "        .add-note {\n",
        "            display: flex;\n",
        "            justify-content: center;\n",
        "            margin: 1rem 0;\n",
        "        }\n",
        "        .add-note button {\n",
        "            background-color: #6c5ce7;\n",
        "            color: white;\n",
        "            border: none;\n",
        "            padding: 0.5rem 1rem;\n",
        "            border-radius: 5px;\n",
        "            cursor: pointer;\n",
        "        }\n",
        "        .add-note button:hover {\n",
        "            background-color: #5a4dcf;\n",
        "        }\n",
        "    </style>\n",
        "</head>\n",
        "<body>\n",
        "    <header>\n",
        "        <h1>Beautiful Notes App</h1>\n",
        "    </header>\n",
        "    <div class=\"container\">\n",
        "        <div class=\"content\">\n",
        "            <h2>Your Notes</h2>\n",
        "            <div class=\"note\">\n",
        "                <p>This is a sample note. Add more!</p>\n",
        "            </div>\n",
        "        </div>\n",
        "        <div class=\"add-note\">\n",
        "            <button onclick=\"alert('This is a placeholder! Add more functionality.')\">Add Note</button>\n",
        "        </div>\n",
        "    </div>\n",
        "</body>\n",
        "</html>\n",
        "\"\"\"\n",
        "\n",
        "# Save index.html in the templates folder\n",
        "with open(\"templates/index.html\", \"w\") as f:\n",
        "    f.write(index_html_content)\n",
        "\n",
        "# Create the app.py script for serving the index.html\n",
        "app_py_content = \"\"\"\n",
        "from flask import Flask, render_template\n",
        "from pyngrok import ngrok\n",
        "\n",
        "app = Flask(__name__)\n",
        "\n",
        "@app.route('/')\n",
        "def index():\n",
        "    return render_template('index.html')\n",
        "\n",
        "# Start ngrok and Flask app\n",
        "public_url = ngrok.connect(5000)\n",
        "print(f\"Your app is running at: {public_url}\")\n",
        "\n",
        "if __name__ == \"__main__\":\n",
        "    app.run(port=5000, debug=True)\n",
        "\"\"\"\n",
        "\n",
        "# Save the app.py script\n",
        "with open(\"app.py\", \"w\") as f:\n",
        "    f.write(app_py_content)\n",
        "\n",
        "print(\"HTML and Flask code have been set up! You can now run the Flask app.\")\n"
      ],
      "metadata": {
        "colab": {
          "base_uri": "https://localhost:8080/"
        },
        "id": "h1gmfVRAajNn",
        "outputId": "e581370d-6ad4-43d3-8e21-7013d62c98a6"
      },
      "execution_count": 31,
      "outputs": [
        {
          "output_type": "stream",
          "name": "stdout",
          "text": [
            "HTML and Flask code have been set up! You can now run the Flask app.\n"
          ]
        }
      ]
    },
    {
      "cell_type": "code",
      "source": [
        "from flask import Flask, render_template\n",
        "from pyngrok import ngrok\n",
        "\n",
        "app = Flask(__name__)\n",
        "\n",
        "@app.route('/')\n",
        "def index():\n",
        "    return render_template('index.html')\n",
        "\n",
        "# Start ngrok and Flask app\n",
        "public_url = ngrok.connect(5000)\n",
        "print(f\"Your app is running at: {public_url}\")\n",
        "\n",
        "if __name__ == \"__main__\":\n",
        "    app.run(port=5000, debug=True)\n"
      ],
      "metadata": {
        "colab": {
          "base_uri": "https://localhost:8080/"
        },
        "id": "BiF18s-barZN",
        "outputId": "9b60c7db-43ca-434b-e5d8-ad7b36ced568"
      },
      "execution_count": 32,
      "outputs": [
        {
          "output_type": "stream",
          "name": "stdout",
          "text": [
            "Your app is running at: NgrokTunnel: \"https://963a-34-138-5-130.ngrok-free.app\" -> \"http://localhost:5000\"\n",
            " * Serving Flask app '__main__'\n",
            " * Debug mode: on\n"
          ]
        },
        {
          "output_type": "stream",
          "name": "stderr",
          "text": [
            "INFO:werkzeug:\u001b[31m\u001b[1mWARNING: This is a development server. Do not use it in a production deployment. Use a production WSGI server instead.\u001b[0m\n",
            " * Running on http://127.0.0.1:5000\n",
            "INFO:werkzeug:\u001b[33mPress CTRL+C to quit\u001b[0m\n",
            "INFO:werkzeug: * Restarting with stat\n"
          ]
        }
      ]
    },
    {
      "cell_type": "markdown",
      "source": [
        "# **Every step, even small, builds the foundation for greater achievements—this is not wasted time but part of the process. Keep going; success comes to those who persist and learn from each attempt.**"
      ],
      "metadata": {
        "id": "F8MpJT2CbTK7"
      }
    }
  ]
}